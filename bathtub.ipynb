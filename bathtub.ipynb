{
 "cells": [
  {
   "cell_type": "code",
   "execution_count": 30,
   "metadata": {
    "collapsed": true
   },
   "outputs": [],
   "source": [
    "import pandas as pd\n",
    "from geopy.geocoders import Nominatim"
   ]
  },
  {
   "cell_type": "code",
   "execution_count": 31,
   "metadata": {
    "collapsed": false
   },
   "outputs": [
    {
     "data": {
      "text/html": [
       "<div>\n",
       "<table border=\"1\" class=\"dataframe\">\n",
       "  <thead>\n",
       "    <tr style=\"text-align: right;\">\n",
       "      <th></th>\n",
       "      <th>name</th>\n",
       "      <th>zipCode</th>\n",
       "      <th>neighborhood</th>\n",
       "      <th>councilDistrict</th>\n",
       "      <th>policeDistrict</th>\n",
       "      <th>Location 1</th>\n",
       "    </tr>\n",
       "  </thead>\n",
       "  <tbody>\n",
       "    <tr>\n",
       "      <th>0</th>\n",
       "      <td>Central</td>\n",
       "      <td>21201</td>\n",
       "      <td>Downtown</td>\n",
       "      <td>11</td>\n",
       "      <td>CENTRAL</td>\n",
       "      <td>400 Cathedral St\\nBaltimore, MD\\n</td>\n",
       "    </tr>\n",
       "    <tr>\n",
       "      <th>1</th>\n",
       "      <td>Brooklyn</td>\n",
       "      <td>21225</td>\n",
       "      <td>Brooklyn</td>\n",
       "      <td>10</td>\n",
       "      <td>SOUTHERN</td>\n",
       "      <td>300 Patapsco Av\\nBaltimore, MD\\n</td>\n",
       "    </tr>\n",
       "    <tr>\n",
       "      <th>2</th>\n",
       "      <td>Canton</td>\n",
       "      <td>21224</td>\n",
       "      <td>Canton</td>\n",
       "      <td>1</td>\n",
       "      <td>SOUTHEASTERN</td>\n",
       "      <td>1030 Ellwood St\\nBaltimore, MD\\n</td>\n",
       "    </tr>\n",
       "    <tr>\n",
       "      <th>3</th>\n",
       "      <td>Cherry Hill</td>\n",
       "      <td>21225</td>\n",
       "      <td>Cherry Hill</td>\n",
       "      <td>10</td>\n",
       "      <td>SOUTHERN</td>\n",
       "      <td>606 Cherry Hill\\nBaltimore, MD\\n</td>\n",
       "    </tr>\n",
       "    <tr>\n",
       "      <th>4</th>\n",
       "      <td>Clifton</td>\n",
       "      <td>21213</td>\n",
       "      <td>South Clifton Park</td>\n",
       "      <td>12</td>\n",
       "      <td>EASTERN</td>\n",
       "      <td>2001 Wolfe St\\nBaltimore, MD\\n</td>\n",
       "    </tr>\n",
       "  </tbody>\n",
       "</table>\n",
       "</div>"
      ],
      "text/plain": [
       "          name  zipCode        neighborhood  councilDistrict policeDistrict  \\\n",
       "0      Central    21201            Downtown               11        CENTRAL   \n",
       "1     Brooklyn    21225            Brooklyn               10       SOUTHERN   \n",
       "2       Canton    21224              Canton                1   SOUTHEASTERN   \n",
       "3  Cherry Hill    21225         Cherry Hill               10       SOUTHERN   \n",
       "4      Clifton    21213  South Clifton Park               12        EASTERN   \n",
       "\n",
       "                          Location 1  \n",
       "0  400 Cathedral St\\nBaltimore, MD\\n  \n",
       "1   300 Patapsco Av\\nBaltimore, MD\\n  \n",
       "2   1030 Ellwood St\\nBaltimore, MD\\n  \n",
       "3   606 Cherry Hill\\nBaltimore, MD\\n  \n",
       "4     2001 Wolfe St\\nBaltimore, MD\\n  "
      ]
     },
     "execution_count": 31,
     "metadata": {},
     "output_type": "execute_result"
    }
   ],
   "source": [
    "libraries = pd.read_csv('data/Libraries.csv')\n",
    "libraries.head()\n"
   ]
  },
  {
   "cell_type": "code",
   "execution_count": 32,
   "metadata": {
    "collapsed": false
   },
   "outputs": [],
   "source": [
    "libraries['Location 1'] = libraries['Location 1'].map(lambda x: x.replace('\\n', ' '))\n",
    "addresses = libraries['Location 1']\n",
    "lats = []\n",
    "longs = []\n"
   ]
  },
  {
   "cell_type": "code",
   "execution_count": 33,
   "metadata": {
    "collapsed": false
   },
   "outputs": [],
   "source": [
    "geolocator = Nominatim()\n",
    "for addr in addresses:\n",
    "    loc = geolocator.geocode( addr )\n",
    "    if loc is None:\n",
    "        lats.append(0)\n",
    "        longs.append(0)\n",
    "    else:\n",
    "        lats.append( loc.latitude )\n",
    "        longs.append( loc.longitude )\n",
    "\n",
    "libraries['longitude'] = longs\n",
    "libraries['latitude'] = lats"
   ]
  },
  {
   "cell_type": "code",
   "execution_count": 36,
   "metadata": {
    "collapsed": false
   },
   "outputs": [
    {
     "data": {
      "text/html": [
       "<div>\n",
       "<table border=\"1\" class=\"dataframe\">\n",
       "  <thead>\n",
       "    <tr style=\"text-align: right;\">\n",
       "      <th></th>\n",
       "      <th>name</th>\n",
       "      <th>zipCode</th>\n",
       "      <th>neighborhood</th>\n",
       "      <th>councilDistrict</th>\n",
       "      <th>policeDistrict</th>\n",
       "      <th>Location 1</th>\n",
       "      <th>longitude</th>\n",
       "      <th>latitude</th>\n",
       "    </tr>\n",
       "  </thead>\n",
       "  <tbody>\n",
       "    <tr>\n",
       "      <th>0</th>\n",
       "      <td>Central</td>\n",
       "      <td>21201</td>\n",
       "      <td>Downtown</td>\n",
       "      <td>11</td>\n",
       "      <td>CENTRAL</td>\n",
       "      <td>400 Cathedral St Baltimore, MD</td>\n",
       "      <td>-76.617356</td>\n",
       "      <td>39.294524</td>\n",
       "    </tr>\n",
       "    <tr>\n",
       "      <th>1</th>\n",
       "      <td>Brooklyn</td>\n",
       "      <td>21225</td>\n",
       "      <td>Brooklyn</td>\n",
       "      <td>10</td>\n",
       "      <td>SOUTHERN</td>\n",
       "      <td>300 Patapsco Av Baltimore, MD</td>\n",
       "      <td>-76.493968</td>\n",
       "      <td>39.309621</td>\n",
       "    </tr>\n",
       "    <tr>\n",
       "      <th>2</th>\n",
       "      <td>Canton</td>\n",
       "      <td>21224</td>\n",
       "      <td>Canton</td>\n",
       "      <td>1</td>\n",
       "      <td>SOUTHEASTERN</td>\n",
       "      <td>1030 Ellwood St Baltimore, MD</td>\n",
       "      <td>0.000000</td>\n",
       "      <td>0.000000</td>\n",
       "    </tr>\n",
       "    <tr>\n",
       "      <th>3</th>\n",
       "      <td>Cherry Hill</td>\n",
       "      <td>21225</td>\n",
       "      <td>Cherry Hill</td>\n",
       "      <td>10</td>\n",
       "      <td>SOUTHERN</td>\n",
       "      <td>606 Cherry Hill Baltimore, MD</td>\n",
       "      <td>-76.627020</td>\n",
       "      <td>39.249075</td>\n",
       "    </tr>\n",
       "    <tr>\n",
       "      <th>4</th>\n",
       "      <td>Clifton</td>\n",
       "      <td>21213</td>\n",
       "      <td>South Clifton Park</td>\n",
       "      <td>12</td>\n",
       "      <td>EASTERN</td>\n",
       "      <td>2001 Wolfe St Baltimore, MD</td>\n",
       "      <td>0.000000</td>\n",
       "      <td>0.000000</td>\n",
       "    </tr>\n",
       "  </tbody>\n",
       "</table>\n",
       "</div>"
      ],
      "text/plain": [
       "          name  zipCode        neighborhood  councilDistrict policeDistrict  \\\n",
       "0      Central    21201            Downtown               11        CENTRAL   \n",
       "1     Brooklyn    21225            Brooklyn               10       SOUTHERN   \n",
       "2       Canton    21224              Canton                1   SOUTHEASTERN   \n",
       "3  Cherry Hill    21225         Cherry Hill               10       SOUTHERN   \n",
       "4      Clifton    21213  South Clifton Park               12        EASTERN   \n",
       "\n",
       "                        Location 1  longitude   latitude  \n",
       "0  400 Cathedral St Baltimore, MD  -76.617356  39.294524  \n",
       "1   300 Patapsco Av Baltimore, MD  -76.493968  39.309621  \n",
       "2   1030 Ellwood St Baltimore, MD    0.000000   0.000000  \n",
       "3   606 Cherry Hill Baltimore, MD  -76.627020  39.249075  \n",
       "4     2001 Wolfe St Baltimore, MD    0.000000   0.000000  "
      ]
     },
     "execution_count": 36,
     "metadata": {},
     "output_type": "execute_result"
    }
   ],
   "source": [
    "libraries.head()"
   ]
  },
  {
   "cell_type": "code",
   "execution_count": null,
   "metadata": {
    "collapsed": true
   },
   "outputs": [],
   "source": [
    "libraries.to_csv('data/clean/Libraries.csv')"
   ]
  }
 ],
 "metadata": {
  "kernelspec": {
   "display_name": "Python 2",
   "language": "python",
   "name": "python2"
  },
  "language_info": {
   "codemirror_mode": {
    "name": "ipython",
    "version": 2
   },
   "file_extension": ".py",
   "mimetype": "text/x-python",
   "name": "python",
   "nbconvert_exporter": "python",
   "pygments_lexer": "ipython2",
   "version": "2.7.11"
  }
 },
 "nbformat": 4,
 "nbformat_minor": 0
}
