{
 "cells": [
  {
   "cell_type": "code",
   "execution_count": 19,
   "metadata": {
    "collapsed": false
   },
   "outputs": [],
   "source": [
    "import pandas as pd\n",
    "from geopy.geocoders import Nominatim"
   ]
  },
  {
   "cell_type": "code",
   "execution_count": 4,
   "metadata": {
    "collapsed": false
   },
   "outputs": [],
   "source": [
    "# Data to be merged into \"places of interest\" table\n",
    "libraries = pd.read_csv('data/Libraries.csv')\n",
    "schools = pd.read_csv('data/bcpss_school.csv')\n",
    "shelters = pd.read_csv('data/Homeless_Shelters.csv')\n",
    "parks = pd.read_csv('data/Parks.csv')\n",
    "religious = pd.read_csv('data/Religious_Buildings.csv')\n",
    "vacancies = pd.read_csv('data/Vacant_Buildings.csv')\n",
    "\n",
    "# Stand-alone data\n",
    "cctv = pd.read_csv('data/CCTV_Locations.csv')\n",
    "arrests = pd.read_csv('data/BPD_Arrests.csv')"
   ]
  },
  {
   "cell_type": "code",
   "execution_count": 5,
   "metadata": {
    "collapsed": false
   },
   "outputs": [
    {
     "data": {
      "text/html": [
       "<div>\n",
       "<table border=\"1\" class=\"dataframe\">\n",
       "  <thead>\n",
       "    <tr style=\"text-align: right;\">\n",
       "      <th></th>\n",
       "      <th>name</th>\n",
       "      <th>zipCode</th>\n",
       "      <th>neighborhood</th>\n",
       "      <th>councilDistrict</th>\n",
       "      <th>policeDistrict</th>\n",
       "      <th>Location 1</th>\n",
       "    </tr>\n",
       "  </thead>\n",
       "  <tbody>\n",
       "    <tr>\n",
       "      <th>0</th>\n",
       "      <td>Central</td>\n",
       "      <td>21201</td>\n",
       "      <td>Downtown</td>\n",
       "      <td>11</td>\n",
       "      <td>CENTRAL</td>\n",
       "      <td>400 Cathedral St\\nBaltimore, MD\\n</td>\n",
       "    </tr>\n",
       "    <tr>\n",
       "      <th>1</th>\n",
       "      <td>Brooklyn</td>\n",
       "      <td>21225</td>\n",
       "      <td>Brooklyn</td>\n",
       "      <td>10</td>\n",
       "      <td>SOUTHERN</td>\n",
       "      <td>300 Patapsco Av\\nBaltimore, MD\\n</td>\n",
       "    </tr>\n",
       "    <tr>\n",
       "      <th>2</th>\n",
       "      <td>Canton</td>\n",
       "      <td>21224</td>\n",
       "      <td>Canton</td>\n",
       "      <td>1</td>\n",
       "      <td>SOUTHEASTERN</td>\n",
       "      <td>1030 Ellwood St\\nBaltimore, MD\\n</td>\n",
       "    </tr>\n",
       "    <tr>\n",
       "      <th>3</th>\n",
       "      <td>Cherry Hill</td>\n",
       "      <td>21225</td>\n",
       "      <td>Cherry Hill</td>\n",
       "      <td>10</td>\n",
       "      <td>SOUTHERN</td>\n",
       "      <td>606 Cherry Hill\\nBaltimore, MD\\n</td>\n",
       "    </tr>\n",
       "    <tr>\n",
       "      <th>4</th>\n",
       "      <td>Clifton</td>\n",
       "      <td>21213</td>\n",
       "      <td>South Clifton Park</td>\n",
       "      <td>12</td>\n",
       "      <td>EASTERN</td>\n",
       "      <td>2001 Wolfe St\\nBaltimore, MD\\n</td>\n",
       "    </tr>\n",
       "  </tbody>\n",
       "</table>\n",
       "</div>"
      ],
      "text/plain": [
       "          name  zipCode        neighborhood  councilDistrict policeDistrict  \\\n",
       "0      Central    21201            Downtown               11        CENTRAL   \n",
       "1     Brooklyn    21225            Brooklyn               10       SOUTHERN   \n",
       "2       Canton    21224              Canton                1   SOUTHEASTERN   \n",
       "3  Cherry Hill    21225         Cherry Hill               10       SOUTHERN   \n",
       "4      Clifton    21213  South Clifton Park               12        EASTERN   \n",
       "\n",
       "                          Location 1  \n",
       "0  400 Cathedral St\\nBaltimore, MD\\n  \n",
       "1   300 Patapsco Av\\nBaltimore, MD\\n  \n",
       "2   1030 Ellwood St\\nBaltimore, MD\\n  \n",
       "3   606 Cherry Hill\\nBaltimore, MD\\n  \n",
       "4     2001 Wolfe St\\nBaltimore, MD\\n  "
      ]
     },
     "execution_count": 5,
     "metadata": {},
     "output_type": "execute_result"
    }
   ],
   "source": [
    "libraries.head()"
   ]
  },
  {
   "cell_type": "code",
   "execution_count": 12,
   "metadata": {
    "collapsed": false
   },
   "outputs": [],
   "source": [
    "libraries['Location 1'] = libraries['Location 1'].map(lambda x: x.replace('\\n', ' '))\n",
    "addresses = libraries['Location 1']\n",
    "lats = []\n",
    "longs = []"
   ]
  },
  {
   "cell_type": "code",
   "execution_count": null,
   "metadata": {
    "collapsed": false
   },
   "outputs": [],
   "source": [
    "geolocator = Nominatim()\n",
    "for addr in addresses:\n",
    "    loc = geolocator.geocode( addr )\n",
    "    if loc is None:\n",
    "        lats.append(0)\n",
    "        longs.append(0)\n",
    "    else:\n",
    "        lats.append( loc.latitude )\n",
    "        longs.append( loc.longitude )\n",
    "\n",
    "libraries['longitude'] = longs\n",
    "libraries['latitude'] = lats"
   ]
  },
  {
   "cell_type": "code",
   "execution_count": 23,
   "metadata": {
    "collapsed": false
   },
   "outputs": [],
   "source": [
    "libraries.drop(libraries.columns[[0,1,2,3,4]], axis=1, inplace=True)\n",
    "libraries['type'] = 'library'"
   ]
  },
  {
   "cell_type": "code",
   "execution_count": 25,
   "metadata": {
    "collapsed": false
   },
   "outputs": [
    {
     "data": {
      "text/html": [
       "<div>\n",
       "<table border=\"1\" class=\"dataframe\">\n",
       "  <thead>\n",
       "    <tr style=\"text-align: right;\">\n",
       "      <th></th>\n",
       "      <th>Location 1</th>\n",
       "      <th>longitude</th>\n",
       "      <th>latitude</th>\n",
       "      <th>type</th>\n",
       "    </tr>\n",
       "  </thead>\n",
       "  <tbody>\n",
       "    <tr>\n",
       "      <th>0</th>\n",
       "      <td>400 Cathedral St Baltimore, MD</td>\n",
       "      <td>-76.617356</td>\n",
       "      <td>39.294524</td>\n",
       "      <td>library</td>\n",
       "    </tr>\n",
       "    <tr>\n",
       "      <th>1</th>\n",
       "      <td>300 Patapsco Av Baltimore, MD</td>\n",
       "      <td>-76.493968</td>\n",
       "      <td>39.309621</td>\n",
       "      <td>library</td>\n",
       "    </tr>\n",
       "    <tr>\n",
       "      <th>2</th>\n",
       "      <td>1030 Ellwood St Baltimore, MD</td>\n",
       "      <td>0.000000</td>\n",
       "      <td>0.000000</td>\n",
       "      <td>library</td>\n",
       "    </tr>\n",
       "    <tr>\n",
       "      <th>3</th>\n",
       "      <td>606 Cherry Hill Baltimore, MD</td>\n",
       "      <td>-76.627020</td>\n",
       "      <td>39.249075</td>\n",
       "      <td>library</td>\n",
       "    </tr>\n",
       "    <tr>\n",
       "      <th>4</th>\n",
       "      <td>2001 Wolfe St Baltimore, MD</td>\n",
       "      <td>0.000000</td>\n",
       "      <td>0.000000</td>\n",
       "      <td>library</td>\n",
       "    </tr>\n",
       "  </tbody>\n",
       "</table>\n",
       "</div>"
      ],
      "text/plain": [
       "                        Location 1  longitude   latitude     type\n",
       "0  400 Cathedral St Baltimore, MD  -76.617356  39.294524  library\n",
       "1   300 Patapsco Av Baltimore, MD  -76.493968  39.309621  library\n",
       "2   1030 Ellwood St Baltimore, MD    0.000000   0.000000  library\n",
       "3   606 Cherry Hill Baltimore, MD  -76.627020  39.249075  library\n",
       "4     2001 Wolfe St Baltimore, MD    0.000000   0.000000  library"
      ]
     },
     "execution_count": 25,
     "metadata": {},
     "output_type": "execute_result"
    }
   ],
   "source": [
    "libraries.head()"
   ]
  },
  {
   "cell_type": "code",
   "execution_count": 15,
   "metadata": {
    "collapsed": false
   },
   "outputs": [
    {
     "data": {
      "text/html": [
       "<div>\n",
       "<table border=\"1\" class=\"dataframe\">\n",
       "  <thead>\n",
       "    <tr style=\"text-align: right;\">\n",
       "      <th></th>\n",
       "      <th>the_geom</th>\n",
       "      <th>BLDG_NUM</th>\n",
       "      <th>PRG__NUM</th>\n",
       "      <th>NAME</th>\n",
       "      <th>GRADES</th>\n",
       "      <th>ADDRESS</th>\n",
       "      <th>ZIPCODE</th>\n",
       "      <th>CATEGORY</th>\n",
       "      <th>TYPE</th>\n",
       "      <th>x_1</th>\n",
       "      <th>y_1</th>\n",
       "    </tr>\n",
       "  </thead>\n",
       "  <tbody>\n",
       "    <tr>\n",
       "      <th>0</th>\n",
       "      <td>POINT (-76.64266675278692 39.28711467734809)</td>\n",
       "      <td>4</td>\n",
       "      <td>4</td>\n",
       "      <td>Steuart Hill</td>\n",
       "      <td>Pre-K - 8.</td>\n",
       "      <td>30 S. Gilmor Street</td>\n",
       "      <td>21223</td>\n",
       "      <td>PK8</td>\n",
       "      <td>Traditional</td>\n",
       "      <td>1.413475e+06</td>\n",
       "      <td>590354.091197</td>\n",
       "    </tr>\n",
       "    <tr>\n",
       "      <th>1</th>\n",
       "      <td>POINT (-76.68003141238741 39.34221757818064)</td>\n",
       "      <td>5</td>\n",
       "      <td>5</td>\n",
       "      <td>Langston Hughes</td>\n",
       "      <td>Pre-K - 5.</td>\n",
       "      <td>5011 Arbutus Avenue</td>\n",
       "      <td>21215</td>\n",
       "      <td>ES</td>\n",
       "      <td>Traditional</td>\n",
       "      <td>1.402829e+06</td>\n",
       "      <td>610385.163011</td>\n",
       "    </tr>\n",
       "    <tr>\n",
       "      <th>2</th>\n",
       "      <td>POINT (-76.6057623882412 39.31319754690319)</td>\n",
       "      <td>7</td>\n",
       "      <td>7</td>\n",
       "      <td>Cecil</td>\n",
       "      <td>Pre-K - 5.</td>\n",
       "      <td>2000 Cecil Avenue</td>\n",
       "      <td>21218</td>\n",
       "      <td>ES</td>\n",
       "      <td>Traditional</td>\n",
       "      <td>1.423880e+06</td>\n",
       "      <td>599897.264696</td>\n",
       "    </tr>\n",
       "    <tr>\n",
       "      <th>3</th>\n",
       "      <td>POINT (-76.59736271963178 39.2896100180029)</td>\n",
       "      <td>8</td>\n",
       "      <td>8</td>\n",
       "      <td>City Springs</td>\n",
       "      <td>Pre-K - 8.</td>\n",
       "      <td>100 S. Caroline Street</td>\n",
       "      <td>21231</td>\n",
       "      <td>Charter</td>\n",
       "      <td>Conversion Charter</td>\n",
       "      <td>1.426295e+06</td>\n",
       "      <td>591316.342553</td>\n",
       "    </tr>\n",
       "    <tr>\n",
       "      <th>4</th>\n",
       "      <td>POINT (-76.63269940511316 39.28742897663944)</td>\n",
       "      <td>10</td>\n",
       "      <td>10</td>\n",
       "      <td>James McHenry</td>\n",
       "      <td>Pre-K - 6</td>\n",
       "      <td>31 S. Schroeder Street</td>\n",
       "      <td>21223</td>\n",
       "      <td>PK8</td>\n",
       "      <td>Traditional</td>\n",
       "      <td>1.416296e+06</td>\n",
       "      <td>590479.765486</td>\n",
       "    </tr>\n",
       "  </tbody>\n",
       "</table>\n",
       "</div>"
      ],
      "text/plain": [
       "                                       the_geom  BLDG_NUM  PRG__NUM  \\\n",
       "0  POINT (-76.64266675278692 39.28711467734809)         4         4   \n",
       "1  POINT (-76.68003141238741 39.34221757818064)         5         5   \n",
       "2   POINT (-76.6057623882412 39.31319754690319)         7         7   \n",
       "3   POINT (-76.59736271963178 39.2896100180029)         8         8   \n",
       "4  POINT (-76.63269940511316 39.28742897663944)        10        10   \n",
       "\n",
       "              NAME      GRADES                 ADDRESS  ZIPCODE CATEGORY  \\\n",
       "0     Steuart Hill  Pre-K - 8.     30 S. Gilmor Street    21223      PK8   \n",
       "1  Langston Hughes  Pre-K - 5.     5011 Arbutus Avenue    21215       ES   \n",
       "2            Cecil  Pre-K - 5.       2000 Cecil Avenue    21218       ES   \n",
       "3     City Springs  Pre-K - 8.  100 S. Caroline Street    21231  Charter   \n",
       "4    James McHenry   Pre-K - 6  31 S. Schroeder Street    21223      PK8   \n",
       "\n",
       "                 TYPE           x_1            y_1  \n",
       "0         Traditional  1.413475e+06  590354.091197  \n",
       "1         Traditional  1.402829e+06  610385.163011  \n",
       "2         Traditional  1.423880e+06  599897.264696  \n",
       "3  Conversion Charter  1.426295e+06  591316.342553  \n",
       "4         Traditional  1.416296e+06  590479.765486  "
      ]
     },
     "execution_count": 15,
     "metadata": {},
     "output_type": "execute_result"
    }
   ],
   "source": [
    "schools.head()"
   ]
  },
  {
   "cell_type": "code",
   "execution_count": 16,
   "metadata": {
    "collapsed": true
   },
   "outputs": [],
   "source": [
    "#schools['ADDRESS'] = schools['ADDRESS'].map(lambda x: x.replace('\\n', ' '))\n",
    "addresses = schools['ADDRESS']\n",
    "lats = []\n",
    "longs = []"
   ]
  },
  {
   "cell_type": "code",
   "execution_count": 17,
   "metadata": {
    "collapsed": true
   },
   "outputs": [],
   "source": [
    "for addr in addresses:\n",
    "    loc = geolocator.geocode( addr )\n",
    "    if loc is None:\n",
    "        lats.append(0)\n",
    "        longs.append(0)\n",
    "    else:\n",
    "        lats.append( loc.latitude )\n",
    "        longs.append( loc.longitude )\n",
    "\n",
    "schools['longitude'] = longs\n",
    "schools['latitude'] = lats"
   ]
  },
  {
   "cell_type": "code",
   "execution_count": 30,
   "metadata": {
    "collapsed": false
   },
   "outputs": [],
   "source": [
    "schools.drop(schools.columns[[0,1,2,3,4,6,7,8,9,10]], axis=1, inplace=True)\n",
    "schools['type'] = 'school'"
   ]
  },
  {
   "cell_type": "code",
   "execution_count": 31,
   "metadata": {
    "collapsed": false
   },
   "outputs": [
    {
     "data": {
      "text/html": [
       "<div>\n",
       "<table border=\"1\" class=\"dataframe\">\n",
       "  <thead>\n",
       "    <tr style=\"text-align: right;\">\n",
       "      <th></th>\n",
       "      <th>ADDRESS</th>\n",
       "      <th>longitude</th>\n",
       "      <th>latitude</th>\n",
       "      <th>type</th>\n",
       "    </tr>\n",
       "  </thead>\n",
       "  <tbody>\n",
       "    <tr>\n",
       "      <th>0</th>\n",
       "      <td>30 S. Gilmor Street</td>\n",
       "      <td>-76.642461</td>\n",
       "      <td>39.287720</td>\n",
       "      <td>school</td>\n",
       "    </tr>\n",
       "    <tr>\n",
       "      <th>1</th>\n",
       "      <td>5011 Arbutus Avenue</td>\n",
       "      <td>-75.143451</td>\n",
       "      <td>40.184097</td>\n",
       "      <td>school</td>\n",
       "    </tr>\n",
       "    <tr>\n",
       "      <th>2</th>\n",
       "      <td>2000 Cecil Avenue</td>\n",
       "      <td>-76.605701</td>\n",
       "      <td>39.313296</td>\n",
       "      <td>school</td>\n",
       "    </tr>\n",
       "    <tr>\n",
       "      <th>3</th>\n",
       "      <td>100 S. Caroline Street</td>\n",
       "      <td>-1.241413</td>\n",
       "      <td>51.750735</td>\n",
       "      <td>school</td>\n",
       "    </tr>\n",
       "    <tr>\n",
       "      <th>4</th>\n",
       "      <td>31 S. Schroeder Street</td>\n",
       "      <td>-76.633577</td>\n",
       "      <td>39.288130</td>\n",
       "      <td>school</td>\n",
       "    </tr>\n",
       "  </tbody>\n",
       "</table>\n",
       "</div>"
      ],
      "text/plain": [
       "                  ADDRESS  longitude   latitude    type\n",
       "0     30 S. Gilmor Street -76.642461  39.287720  school\n",
       "1     5011 Arbutus Avenue -75.143451  40.184097  school\n",
       "2       2000 Cecil Avenue -76.605701  39.313296  school\n",
       "3  100 S. Caroline Street  -1.241413  51.750735  school\n",
       "4  31 S. Schroeder Street -76.633577  39.288130  school"
      ]
     },
     "execution_count": 31,
     "metadata": {},
     "output_type": "execute_result"
    }
   ],
   "source": [
    "schools.head()"
   ]
  },
  {
   "cell_type": "code",
   "execution_count": 32,
   "metadata": {
    "collapsed": false
   },
   "outputs": [
    {
     "data": {
      "text/html": [
       "<div>\n",
       "<table border=\"1\" class=\"dataframe\">\n",
       "  <thead>\n",
       "    <tr style=\"text-align: right;\">\n",
       "      <th></th>\n",
       "      <th>name</th>\n",
       "      <th>type</th>\n",
       "      <th>zipCode</th>\n",
       "      <th>neighborhood</th>\n",
       "      <th>councilDistrict</th>\n",
       "      <th>policeDistrict</th>\n",
       "      <th>Location 1</th>\n",
       "    </tr>\n",
       "  </thead>\n",
       "  <tbody>\n",
       "    <tr>\n",
       "      <th>0</th>\n",
       "      <td>American Rescue Workers</td>\n",
       "      <td>Emergency</td>\n",
       "      <td>21230.0</td>\n",
       "      <td>SBIC</td>\n",
       "      <td>10.0</td>\n",
       "      <td>SOUTHERN</td>\n",
       "      <td>11 Clement St\\nBaltimore, MD\\n</td>\n",
       "    </tr>\n",
       "    <tr>\n",
       "      <th>1</th>\n",
       "      <td>Aunt CC's Harbor House</td>\n",
       "      <td>Emergency</td>\n",
       "      <td>21202.0</td>\n",
       "      <td>Oldtown</td>\n",
       "      <td>12.0</td>\n",
       "      <td>EASTERN</td>\n",
       "      <td>1031 Monument St\\nBaltimore, MD\\n</td>\n",
       "    </tr>\n",
       "    <tr>\n",
       "      <th>2</th>\n",
       "      <td>Baltimore Rescue Mission</td>\n",
       "      <td>Emergency</td>\n",
       "      <td>21202.0</td>\n",
       "      <td>Jonestown</td>\n",
       "      <td>12.0</td>\n",
       "      <td>SOUTHEASTERN</td>\n",
       "      <td>4 Central\\nBaltimore, MD\\n</td>\n",
       "    </tr>\n",
       "    <tr>\n",
       "      <th>3</th>\n",
       "      <td>Christ Lutheran Place</td>\n",
       "      <td>Emergency</td>\n",
       "      <td>21230.0</td>\n",
       "      <td>Otterbein</td>\n",
       "      <td>11.0</td>\n",
       "      <td>SOUTHERN</td>\n",
       "      <td>701 Charles\\nBaltimore, MD\\n</td>\n",
       "    </tr>\n",
       "    <tr>\n",
       "      <th>4</th>\n",
       "      <td>Code Blue J, H &amp; R</td>\n",
       "      <td>Emergency (temporary)</td>\n",
       "      <td>21202.0</td>\n",
       "      <td>Jonestown</td>\n",
       "      <td>12.0</td>\n",
       "      <td>SOUTHEASTERN</td>\n",
       "      <td>1001 Fayette St\\nBaltimore, MD\\n</td>\n",
       "    </tr>\n",
       "  </tbody>\n",
       "</table>\n",
       "</div>"
      ],
      "text/plain": [
       "                       name                   type  zipCode neighborhood  \\\n",
       "0   American Rescue Workers              Emergency  21230.0         SBIC   \n",
       "1    Aunt CC's Harbor House              Emergency  21202.0      Oldtown   \n",
       "2  Baltimore Rescue Mission              Emergency  21202.0    Jonestown   \n",
       "3     Christ Lutheran Place              Emergency  21230.0    Otterbein   \n",
       "4        Code Blue J, H & R  Emergency (temporary)  21202.0    Jonestown   \n",
       "\n",
       "   councilDistrict policeDistrict                         Location 1  \n",
       "0             10.0       SOUTHERN     11 Clement St\\nBaltimore, MD\\n  \n",
       "1             12.0        EASTERN  1031 Monument St\\nBaltimore, MD\\n  \n",
       "2             12.0   SOUTHEASTERN         4 Central\\nBaltimore, MD\\n  \n",
       "3             11.0       SOUTHERN       701 Charles\\nBaltimore, MD\\n  \n",
       "4             12.0   SOUTHEASTERN   1001 Fayette St\\nBaltimore, MD\\n  "
      ]
     },
     "execution_count": 32,
     "metadata": {},
     "output_type": "execute_result"
    }
   ],
   "source": [
    "shelters.head()"
   ]
  },
  {
   "cell_type": "code",
   "execution_count": 36,
   "metadata": {
    "collapsed": false
   },
   "outputs": [],
   "source": [
    "shelters['Location 1'] = shelters['Location 1'].map(lambda x: str(x).replace('\\n', ' '))\n",
    "addresses = shelters['Location 1']\n",
    "lats = []\n",
    "longs = []"
   ]
  },
  {
   "cell_type": "code",
   "execution_count": 37,
   "metadata": {
    "collapsed": true
   },
   "outputs": [],
   "source": [
    "for addr in addresses:\n",
    "    loc = geolocator.geocode( addr )\n",
    "    if loc is None:\n",
    "        lats.append(0)\n",
    "        longs.append(0)\n",
    "    else:\n",
    "        lats.append( loc.latitude )\n",
    "        longs.append( loc.longitude )\n",
    "\n",
    "shelters['longitude'] = longs\n",
    "shelters['latitude'] = lats"
   ]
  },
  {
   "cell_type": "code",
   "execution_count": 41,
   "metadata": {
    "collapsed": false
   },
   "outputs": [],
   "source": [
    "shelters.drop(shelters.columns[[0,2,3,4,5]], axis=1, inplace=True)\n",
    "shelters['type'] = 'shelter'"
   ]
  },
  {
   "cell_type": "code",
   "execution_count": 42,
   "metadata": {
    "collapsed": false
   },
   "outputs": [
    {
     "data": {
      "text/html": [
       "<div>\n",
       "<table border=\"1\" class=\"dataframe\">\n",
       "  <thead>\n",
       "    <tr style=\"text-align: right;\">\n",
       "      <th></th>\n",
       "      <th>type</th>\n",
       "      <th>Location 1</th>\n",
       "      <th>longitude</th>\n",
       "      <th>latitude</th>\n",
       "    </tr>\n",
       "  </thead>\n",
       "  <tbody>\n",
       "    <tr>\n",
       "      <th>0</th>\n",
       "      <td>shelter</td>\n",
       "      <td>11 Clement St Baltimore, MD</td>\n",
       "      <td>0.000000</td>\n",
       "      <td>0.000000</td>\n",
       "    </tr>\n",
       "    <tr>\n",
       "      <th>1</th>\n",
       "      <td>shelter</td>\n",
       "      <td>1031 Monument St Baltimore, MD</td>\n",
       "      <td>0.000000</td>\n",
       "      <td>0.000000</td>\n",
       "    </tr>\n",
       "    <tr>\n",
       "      <th>2</th>\n",
       "      <td>shelter</td>\n",
       "      <td>4 Central Baltimore, MD</td>\n",
       "      <td>-76.671789</td>\n",
       "      <td>39.345698</td>\n",
       "    </tr>\n",
       "    <tr>\n",
       "      <th>3</th>\n",
       "      <td>shelter</td>\n",
       "      <td>701 Charles Baltimore, MD</td>\n",
       "      <td>-76.617038</td>\n",
       "      <td>39.318427</td>\n",
       "    </tr>\n",
       "    <tr>\n",
       "      <th>4</th>\n",
       "      <td>shelter</td>\n",
       "      <td>1001 Fayette St Baltimore, MD</td>\n",
       "      <td>0.000000</td>\n",
       "      <td>0.000000</td>\n",
       "    </tr>\n",
       "  </tbody>\n",
       "</table>\n",
       "</div>"
      ],
      "text/plain": [
       "      type                       Location 1  longitude   latitude\n",
       "0  shelter     11 Clement St Baltimore, MD    0.000000   0.000000\n",
       "1  shelter  1031 Monument St Baltimore, MD    0.000000   0.000000\n",
       "2  shelter         4 Central Baltimore, MD  -76.671789  39.345698\n",
       "3  shelter       701 Charles Baltimore, MD  -76.617038  39.318427\n",
       "4  shelter   1001 Fayette St Baltimore, MD    0.000000   0.000000"
      ]
     },
     "execution_count": 42,
     "metadata": {},
     "output_type": "execute_result"
    }
   ],
   "source": [
    "shelters.head()"
   ]
  },
  {
   "cell_type": "code",
   "execution_count": 43,
   "metadata": {
    "collapsed": false
   },
   "outputs": [
    {
     "data": {
      "text/html": [
       "<div>\n",
       "<table border=\"1\" class=\"dataframe\">\n",
       "  <thead>\n",
       "    <tr style=\"text-align: right;\">\n",
       "      <th></th>\n",
       "      <th>name</th>\n",
       "      <th>district</th>\n",
       "      <th>acres</th>\n",
       "      <th>Location 1</th>\n",
       "    </tr>\n",
       "  </thead>\n",
       "  <tbody>\n",
       "    <tr>\n",
       "      <th>0</th>\n",
       "      <td>32nd Street Park</td>\n",
       "      <td>Clifton</td>\n",
       "      <td>0.1342</td>\n",
       "      <td>301 32nd St\\nBaltimore, MD\\n</td>\n",
       "    </tr>\n",
       "    <tr>\n",
       "      <th>1</th>\n",
       "      <td>Adams Park</td>\n",
       "      <td>Clifton</td>\n",
       "      <td>0.5100</td>\n",
       "      <td>1530 Montpelier St\\nBaltimore, MD\\n</td>\n",
       "    </tr>\n",
       "    <tr>\n",
       "      <th>2</th>\n",
       "      <td>Alexander Odum Park</td>\n",
       "      <td>Gwynns Falls</td>\n",
       "      <td>1.1550</td>\n",
       "      <td>3111 Presstman St\\nBaltimore, MD\\n</td>\n",
       "    </tr>\n",
       "    <tr>\n",
       "      <th>3</th>\n",
       "      <td>Alhambra Park</td>\n",
       "      <td>Clifton</td>\n",
       "      <td>0.8905</td>\n",
       "      <td>5200 Alhambra Ave\\nBaltimore, MD\\n</td>\n",
       "    </tr>\n",
       "    <tr>\n",
       "      <th>4</th>\n",
       "      <td>Ambrose Kennedy Park</td>\n",
       "      <td>Patterson</td>\n",
       "      <td>1.7306</td>\n",
       "      <td>1002 Harford Rd\\nBaltimore, MD\\n</td>\n",
       "    </tr>\n",
       "  </tbody>\n",
       "</table>\n",
       "</div>"
      ],
      "text/plain": [
       "                   name      district   acres  \\\n",
       "0      32nd Street Park       Clifton  0.1342   \n",
       "1            Adams Park       Clifton  0.5100   \n",
       "2   Alexander Odum Park  Gwynns Falls  1.1550   \n",
       "3         Alhambra Park       Clifton  0.8905   \n",
       "4  Ambrose Kennedy Park     Patterson  1.7306   \n",
       "\n",
       "                            Location 1  \n",
       "0         301 32nd St\\nBaltimore, MD\\n  \n",
       "1  1530 Montpelier St\\nBaltimore, MD\\n  \n",
       "2   3111 Presstman St\\nBaltimore, MD\\n  \n",
       "3   5200 Alhambra Ave\\nBaltimore, MD\\n  \n",
       "4     1002 Harford Rd\\nBaltimore, MD\\n  "
      ]
     },
     "execution_count": 43,
     "metadata": {},
     "output_type": "execute_result"
    }
   ],
   "source": [
    "parks.head()"
   ]
  },
  {
   "cell_type": "code",
   "execution_count": 44,
   "metadata": {
    "collapsed": true
   },
   "outputs": [],
   "source": [
    "parks['Location 1'] = parks['Location 1'].map(lambda x: str(x).replace('\\n', ' '))\n",
    "addresses = parks['Location 1']\n",
    "lats = []\n",
    "longs = []"
   ]
  },
  {
   "cell_type": "code",
   "execution_count": 45,
   "metadata": {
    "collapsed": true
   },
   "outputs": [],
   "source": [
    "for addr in addresses:\n",
    "    loc = geolocator.geocode( addr )\n",
    "    if loc is None:\n",
    "        lats.append(0)\n",
    "        longs.append(0)\n",
    "    else:\n",
    "        lats.append( loc.latitude )\n",
    "        longs.append( loc.longitude )\n",
    "\n",
    "parks['longitude'] = longs\n",
    "parks['latitude'] = lats"
   ]
  },
  {
   "cell_type": "code",
   "execution_count": 49,
   "metadata": {
    "collapsed": false
   },
   "outputs": [],
   "source": [
    "parks.drop(parks.columns[[0,1,2]], axis=1, inplace=True)\n",
    "parks['type'] = 'park'"
   ]
  },
  {
   "cell_type": "code",
   "execution_count": 50,
   "metadata": {
    "collapsed": false
   },
   "outputs": [
    {
     "data": {
      "text/html": [
       "<div>\n",
       "<table border=\"1\" class=\"dataframe\">\n",
       "  <thead>\n",
       "    <tr style=\"text-align: right;\">\n",
       "      <th></th>\n",
       "      <th>Location 1</th>\n",
       "      <th>longitude</th>\n",
       "      <th>latitude</th>\n",
       "      <th>type</th>\n",
       "    </tr>\n",
       "  </thead>\n",
       "  <tbody>\n",
       "    <tr>\n",
       "      <th>0</th>\n",
       "      <td>301 32nd St Baltimore, MD</td>\n",
       "      <td>-76.523049</td>\n",
       "      <td>39.325398</td>\n",
       "      <td>park</td>\n",
       "    </tr>\n",
       "    <tr>\n",
       "      <th>1</th>\n",
       "      <td>1530 Montpelier St Baltimore, MD</td>\n",
       "      <td>-76.597740</td>\n",
       "      <td>39.321572</td>\n",
       "      <td>park</td>\n",
       "    </tr>\n",
       "    <tr>\n",
       "      <th>2</th>\n",
       "      <td>3111 Presstman St Baltimore, MD</td>\n",
       "      <td>-76.669871</td>\n",
       "      <td>39.304265</td>\n",
       "      <td>park</td>\n",
       "    </tr>\n",
       "    <tr>\n",
       "      <th>3</th>\n",
       "      <td>5200 Alhambra Ave Baltimore, MD</td>\n",
       "      <td>-76.605885</td>\n",
       "      <td>39.352697</td>\n",
       "      <td>park</td>\n",
       "    </tr>\n",
       "    <tr>\n",
       "      <th>4</th>\n",
       "      <td>1002 Harford Rd Baltimore, MD</td>\n",
       "      <td>-76.593253</td>\n",
       "      <td>39.318576</td>\n",
       "      <td>park</td>\n",
       "    </tr>\n",
       "  </tbody>\n",
       "</table>\n",
       "</div>"
      ],
      "text/plain": [
       "                          Location 1  longitude   latitude  type\n",
       "0         301 32nd St Baltimore, MD  -76.523049  39.325398  park\n",
       "1  1530 Montpelier St Baltimore, MD  -76.597740  39.321572  park\n",
       "2   3111 Presstman St Baltimore, MD  -76.669871  39.304265  park\n",
       "3   5200 Alhambra Ave Baltimore, MD  -76.605885  39.352697  park\n",
       "4     1002 Harford Rd Baltimore, MD  -76.593253  39.318576  park"
      ]
     },
     "execution_count": 50,
     "metadata": {},
     "output_type": "execute_result"
    }
   ],
   "source": [
    "parks.head()"
   ]
  },
  {
   "cell_type": "code",
   "execution_count": 51,
   "metadata": {
    "collapsed": false
   },
   "outputs": [
    {
     "data": {
      "text/html": [
       "<div>\n",
       "<table border=\"1\" class=\"dataframe\">\n",
       "  <thead>\n",
       "    <tr style=\"text-align: right;\">\n",
       "      <th></th>\n",
       "      <th>name</th>\n",
       "      <th>type</th>\n",
       "      <th>zipCode</th>\n",
       "      <th>neighborhood</th>\n",
       "      <th>councilDistrict</th>\n",
       "      <th>policeDistrict</th>\n",
       "      <th>Location 1</th>\n",
       "    </tr>\n",
       "  </thead>\n",
       "  <tbody>\n",
       "    <tr>\n",
       "      <th>0</th>\n",
       "      <td>Christian Memorial Church</td>\n",
       "      <td>Church</td>\n",
       "      <td>21217</td>\n",
       "      <td>Easterwood</td>\n",
       "      <td>7</td>\n",
       "      <td>WESTERN</td>\n",
       "      <td>2001 NORTH AVE\\nBaltimore, MD\\n</td>\n",
       "    </tr>\n",
       "    <tr>\n",
       "      <th>1</th>\n",
       "      <td>Har Sinai Church Of Christ</td>\n",
       "      <td>Church</td>\n",
       "      <td>21231</td>\n",
       "      <td>Fells Point</td>\n",
       "      <td>1</td>\n",
       "      <td>SOUTHEASTERN</td>\n",
       "      <td>300 BROADWAY\\nBaltimore, MD\\n</td>\n",
       "    </tr>\n",
       "    <tr>\n",
       "      <th>2</th>\n",
       "      <td>Lords Church</td>\n",
       "      <td>Church</td>\n",
       "      <td>21215</td>\n",
       "      <td>Central Park Heights</td>\n",
       "      <td>6</td>\n",
       "      <td>NORTHWESTERN</td>\n",
       "      <td>5010 PARK HEIGHTS AVE\\nBaltimore, MD\\n</td>\n",
       "    </tr>\n",
       "    <tr>\n",
       "      <th>3</th>\n",
       "      <td>Hallelujah United Church Of God</td>\n",
       "      <td>Church</td>\n",
       "      <td>21215</td>\n",
       "      <td>Arlington</td>\n",
       "      <td>5</td>\n",
       "      <td>NORTHWESTERN</td>\n",
       "      <td>3606 ROGERS AVE\\nBaltimore, MD\\n</td>\n",
       "    </tr>\n",
       "    <tr>\n",
       "      <th>4</th>\n",
       "      <td>Fourth Mount Zion Baptist Church</td>\n",
       "      <td>Church</td>\n",
       "      <td>21216</td>\n",
       "      <td>Hanlon-Longwood</td>\n",
       "      <td>7</td>\n",
       "      <td>NORTHWESTERN</td>\n",
       "      <td>2504 HILTON ST\\nBaltimore, MD\\n</td>\n",
       "    </tr>\n",
       "  </tbody>\n",
       "</table>\n",
       "</div>"
      ],
      "text/plain": [
       "                               name    type  zipCode          neighborhood  \\\n",
       "0         Christian Memorial Church  Church    21217            Easterwood   \n",
       "1        Har Sinai Church Of Christ  Church    21231           Fells Point   \n",
       "2                      Lords Church  Church    21215  Central Park Heights   \n",
       "3   Hallelujah United Church Of God  Church    21215             Arlington   \n",
       "4  Fourth Mount Zion Baptist Church  Church    21216       Hanlon-Longwood   \n",
       "\n",
       "   councilDistrict policeDistrict                              Location 1  \n",
       "0                7        WESTERN         2001 NORTH AVE\\nBaltimore, MD\\n  \n",
       "1                1   SOUTHEASTERN           300 BROADWAY\\nBaltimore, MD\\n  \n",
       "2                6   NORTHWESTERN  5010 PARK HEIGHTS AVE\\nBaltimore, MD\\n  \n",
       "3                5   NORTHWESTERN        3606 ROGERS AVE\\nBaltimore, MD\\n  \n",
       "4                7   NORTHWESTERN         2504 HILTON ST\\nBaltimore, MD\\n  "
      ]
     },
     "execution_count": 51,
     "metadata": {},
     "output_type": "execute_result"
    }
   ],
   "source": [
    "religious.head()"
   ]
  },
  {
   "cell_type": "code",
   "execution_count": 52,
   "metadata": {
    "collapsed": true
   },
   "outputs": [],
   "source": [
    "religious['Location 1'] = religious['Location 1'].map(lambda x: str(x).replace('\\n', ' '))\n",
    "addresses = religious['Location 1']\n",
    "lats = []\n",
    "longs = []"
   ]
  },
  {
   "cell_type": "code",
   "execution_count": 53,
   "metadata": {
    "collapsed": true
   },
   "outputs": [],
   "source": [
    "for addr in addresses:\n",
    "    loc = geolocator.geocode( addr )\n",
    "    if loc is None:\n",
    "        lats.append(0)\n",
    "        longs.append(0)\n",
    "    else:\n",
    "        lats.append( loc.latitude )\n",
    "        longs.append( loc.longitude )\n",
    "\n",
    "religious['longitude'] = longs\n",
    "religious['latitude'] = lats"
   ]
  },
  {
   "cell_type": "code",
   "execution_count": 56,
   "metadata": {
    "collapsed": false
   },
   "outputs": [],
   "source": [
    "religious.drop(religious.columns[[0,2,3,4,5]], axis=1, inplace=True)"
   ]
  },
  {
   "cell_type": "code",
   "execution_count": 58,
   "metadata": {
    "collapsed": false
   },
   "outputs": [],
   "source": [
    "religious.rename(columns={'type': 'rel_type'}, inplace=True)\n",
    "religious['type'] = 'religious'"
   ]
  },
  {
   "cell_type": "code",
   "execution_count": 59,
   "metadata": {
    "collapsed": false
   },
   "outputs": [
    {
     "data": {
      "text/html": [
       "<div>\n",
       "<table border=\"1\" class=\"dataframe\">\n",
       "  <thead>\n",
       "    <tr style=\"text-align: right;\">\n",
       "      <th></th>\n",
       "      <th>rel_type</th>\n",
       "      <th>Location 1</th>\n",
       "      <th>longitude</th>\n",
       "      <th>latitude</th>\n",
       "      <th>type</th>\n",
       "    </tr>\n",
       "  </thead>\n",
       "  <tbody>\n",
       "    <tr>\n",
       "      <th>0</th>\n",
       "      <td>Church</td>\n",
       "      <td>2001 NORTH AVE Baltimore, MD</td>\n",
       "      <td>-76.459695</td>\n",
       "      <td>39.310429</td>\n",
       "      <td>religious</td>\n",
       "    </tr>\n",
       "    <tr>\n",
       "      <th>1</th>\n",
       "      <td>Church</td>\n",
       "      <td>300 BROADWAY Baltimore, MD</td>\n",
       "      <td>-76.594363</td>\n",
       "      <td>39.294822</td>\n",
       "      <td>religious</td>\n",
       "    </tr>\n",
       "    <tr>\n",
       "      <th>2</th>\n",
       "      <td>Church</td>\n",
       "      <td>5010 PARK HEIGHTS AVE Baltimore, MD</td>\n",
       "      <td>-76.674268</td>\n",
       "      <td>39.347764</td>\n",
       "      <td>religious</td>\n",
       "    </tr>\n",
       "    <tr>\n",
       "      <th>3</th>\n",
       "      <td>Church</td>\n",
       "      <td>3606 ROGERS AVE Baltimore, MD</td>\n",
       "      <td>0.000000</td>\n",
       "      <td>0.000000</td>\n",
       "      <td>religious</td>\n",
       "    </tr>\n",
       "    <tr>\n",
       "      <th>4</th>\n",
       "      <td>Church</td>\n",
       "      <td>2504 HILTON ST Baltimore, MD</td>\n",
       "      <td>0.000000</td>\n",
       "      <td>0.000000</td>\n",
       "      <td>religious</td>\n",
       "    </tr>\n",
       "  </tbody>\n",
       "</table>\n",
       "</div>"
      ],
      "text/plain": [
       "  rel_type                            Location 1  longitude   latitude  \\\n",
       "0   Church         2001 NORTH AVE Baltimore, MD  -76.459695  39.310429   \n",
       "1   Church           300 BROADWAY Baltimore, MD  -76.594363  39.294822   \n",
       "2   Church  5010 PARK HEIGHTS AVE Baltimore, MD  -76.674268  39.347764   \n",
       "3   Church        3606 ROGERS AVE Baltimore, MD    0.000000   0.000000   \n",
       "4   Church         2504 HILTON ST Baltimore, MD    0.000000   0.000000   \n",
       "\n",
       "        type  \n",
       "0  religious  \n",
       "1  religious  \n",
       "2  religious  \n",
       "3  religious  \n",
       "4  religious  "
      ]
     },
     "execution_count": 59,
     "metadata": {},
     "output_type": "execute_result"
    }
   ],
   "source": [
    "religious.head()"
   ]
  },
  {
   "cell_type": "code",
   "execution_count": 60,
   "metadata": {
    "collapsed": false
   },
   "outputs": [
    {
     "data": {
      "text/html": [
       "<div>\n",
       "<table border=\"1\" class=\"dataframe\">\n",
       "  <thead>\n",
       "    <tr style=\"text-align: right;\">\n",
       "      <th></th>\n",
       "      <th>ReferenceID</th>\n",
       "      <th>Block</th>\n",
       "      <th>Lot</th>\n",
       "      <th>BuildingAddress</th>\n",
       "      <th>NoticeDate</th>\n",
       "      <th>Neighborhood</th>\n",
       "      <th>PoliceDistrict</th>\n",
       "      <th>CouncilDistrict</th>\n",
       "      <th>Location</th>\n",
       "    </tr>\n",
       "  </thead>\n",
       "  <tbody>\n",
       "    <tr>\n",
       "      <th>0</th>\n",
       "      <td>0002 019 031016</td>\n",
       "      <td>0002</td>\n",
       "      <td>019</td>\n",
       "      <td>1909 W NORTH AVE</td>\n",
       "      <td>03/10/2016</td>\n",
       "      <td>EASTERWOOD</td>\n",
       "      <td>WESTERN</td>\n",
       "      <td>7</td>\n",
       "      <td>(39.30952601, -76.64848892)</td>\n",
       "    </tr>\n",
       "    <tr>\n",
       "      <th>1</th>\n",
       "      <td>0007 057 031116</td>\n",
       "      <td>0007</td>\n",
       "      <td>057</td>\n",
       "      <td>1734 APPLETON ST</td>\n",
       "      <td>03/11/2016</td>\n",
       "      <td>EASTERWOOD</td>\n",
       "      <td>WESTERN</td>\n",
       "      <td>7</td>\n",
       "      <td>(39.30856758, -76.64921157)</td>\n",
       "    </tr>\n",
       "    <tr>\n",
       "      <th>2</th>\n",
       "      <td>0125 012 030816</td>\n",
       "      <td>0125</td>\n",
       "      <td>012</td>\n",
       "      <td>522 N CAREY ST</td>\n",
       "      <td>03/08/2016</td>\n",
       "      <td>HARLEM PARK</td>\n",
       "      <td>WESTERN</td>\n",
       "      <td>9</td>\n",
       "      <td>(39.29482152, -76.63877572)</td>\n",
       "    </tr>\n",
       "    <tr>\n",
       "      <th>3</th>\n",
       "      <td>0151 009 030716</td>\n",
       "      <td>0151</td>\n",
       "      <td>009</td>\n",
       "      <td>317 N GILMOR ST</td>\n",
       "      <td>03/07/2016</td>\n",
       "      <td>FRANKLIN SQUARE</td>\n",
       "      <td>WESTERN</td>\n",
       "      <td>9</td>\n",
       "      <td>(39.29261888, -76.64231678)</td>\n",
       "    </tr>\n",
       "    <tr>\n",
       "      <th>4</th>\n",
       "      <td>0232 032 031116</td>\n",
       "      <td>0232</td>\n",
       "      <td>032</td>\n",
       "      <td>1324 W LOMBARD ST</td>\n",
       "      <td>03/11/2016</td>\n",
       "      <td>UNION SQUARE</td>\n",
       "      <td>SOUTHERN</td>\n",
       "      <td>9</td>\n",
       "      <td>(39.28680988, -76.63888529)</td>\n",
       "    </tr>\n",
       "  </tbody>\n",
       "</table>\n",
       "</div>"
      ],
      "text/plain": [
       "       ReferenceID Block  Lot    BuildingAddress  NoticeDate     Neighborhood  \\\n",
       "0  0002 019 031016  0002  019   1909 W NORTH AVE  03/10/2016       EASTERWOOD   \n",
       "1  0007 057 031116  0007  057   1734 APPLETON ST  03/11/2016       EASTERWOOD   \n",
       "2  0125 012 030816  0125  012     522 N CAREY ST  03/08/2016      HARLEM PARK   \n",
       "3  0151 009 030716  0151  009    317 N GILMOR ST  03/07/2016  FRANKLIN SQUARE   \n",
       "4  0232 032 031116  0232  032  1324 W LOMBARD ST  03/11/2016     UNION SQUARE   \n",
       "\n",
       "  PoliceDistrict  CouncilDistrict                     Location  \n",
       "0        WESTERN                7  (39.30952601, -76.64848892)  \n",
       "1        WESTERN                7  (39.30856758, -76.64921157)  \n",
       "2        WESTERN                9  (39.29482152, -76.63877572)  \n",
       "3        WESTERN                9  (39.29261888, -76.64231678)  \n",
       "4       SOUTHERN                9  (39.28680988, -76.63888529)  "
      ]
     },
     "execution_count": 60,
     "metadata": {},
     "output_type": "execute_result"
    }
   ],
   "source": [
    "vacancies.head()"
   ]
  },
  {
   "cell_type": "code",
   "execution_count": 77,
   "metadata": {
    "collapsed": true
   },
   "outputs": [],
   "source": [
    "#religious['Location 1'] = religious['Location 1'].map(lambda x: str(x).replace('\\n', ' '))\n",
    "addresses = vacancies['Location']\n",
    "lats = []\n",
    "longs = []"
   ]
  },
  {
   "cell_type": "code",
   "execution_count": 78,
   "metadata": {
    "collapsed": true
   },
   "outputs": [],
   "source": [
    "from ast import literal_eval as make_tuple"
   ]
  },
  {
   "cell_type": "code",
   "execution_count": 79,
   "metadata": {
    "collapsed": false
   },
   "outputs": [],
   "source": [
    "for addr in addresses:\n",
    "    (lat, lon) = make_tuple(addr)\n",
    "    #loc = geolocator.geocode( addr )\n",
    "    #if lat or lon is None:\n",
    "     #   lats.append(0)\n",
    "    #  longs.append(0)\n",
    "    #else:\n",
    "    lats.append(lat)\n",
    "    longs.append(lon)\n",
    "\n",
    "vacancies['longitude'] = longs\n",
    "vacancies['latitude'] = lats"
   ]
  },
  {
   "cell_type": "code",
   "execution_count": 83,
   "metadata": {
    "collapsed": false
   },
   "outputs": [],
   "source": [
    "vacancies.drop(vacancies.columns[[0,1,2,4,5,6,7]], axis=1, inplace=True)\n",
    "vacancies['type'] = 'vacant'"
   ]
  },
  {
   "cell_type": "code",
   "execution_count": 84,
   "metadata": {
    "collapsed": false
   },
   "outputs": [
    {
     "data": {
      "text/html": [
       "<div>\n",
       "<table border=\"1\" class=\"dataframe\">\n",
       "  <thead>\n",
       "    <tr style=\"text-align: right;\">\n",
       "      <th></th>\n",
       "      <th>BuildingAddress</th>\n",
       "      <th>Location</th>\n",
       "      <th>longitude</th>\n",
       "      <th>latitude</th>\n",
       "      <th>type</th>\n",
       "    </tr>\n",
       "  </thead>\n",
       "  <tbody>\n",
       "    <tr>\n",
       "      <th>0</th>\n",
       "      <td>1909 W NORTH AVE</td>\n",
       "      <td>(39.30952601, -76.64848892)</td>\n",
       "      <td>-76.648489</td>\n",
       "      <td>39.309526</td>\n",
       "      <td>vacant</td>\n",
       "    </tr>\n",
       "    <tr>\n",
       "      <th>1</th>\n",
       "      <td>1734 APPLETON ST</td>\n",
       "      <td>(39.30856758, -76.64921157)</td>\n",
       "      <td>-76.649212</td>\n",
       "      <td>39.308568</td>\n",
       "      <td>vacant</td>\n",
       "    </tr>\n",
       "    <tr>\n",
       "      <th>2</th>\n",
       "      <td>522 N CAREY ST</td>\n",
       "      <td>(39.29482152, -76.63877572)</td>\n",
       "      <td>-76.638776</td>\n",
       "      <td>39.294822</td>\n",
       "      <td>vacant</td>\n",
       "    </tr>\n",
       "    <tr>\n",
       "      <th>3</th>\n",
       "      <td>317 N GILMOR ST</td>\n",
       "      <td>(39.29261888, -76.64231678)</td>\n",
       "      <td>-76.642317</td>\n",
       "      <td>39.292619</td>\n",
       "      <td>vacant</td>\n",
       "    </tr>\n",
       "    <tr>\n",
       "      <th>4</th>\n",
       "      <td>1324 W LOMBARD ST</td>\n",
       "      <td>(39.28680988, -76.63888529)</td>\n",
       "      <td>-76.638885</td>\n",
       "      <td>39.286810</td>\n",
       "      <td>vacant</td>\n",
       "    </tr>\n",
       "  </tbody>\n",
       "</table>\n",
       "</div>"
      ],
      "text/plain": [
       "     BuildingAddress                     Location  longitude   latitude  \\\n",
       "0   1909 W NORTH AVE  (39.30952601, -76.64848892) -76.648489  39.309526   \n",
       "1   1734 APPLETON ST  (39.30856758, -76.64921157) -76.649212  39.308568   \n",
       "2     522 N CAREY ST  (39.29482152, -76.63877572) -76.638776  39.294822   \n",
       "3    317 N GILMOR ST  (39.29261888, -76.64231678) -76.642317  39.292619   \n",
       "4  1324 W LOMBARD ST  (39.28680988, -76.63888529) -76.638885  39.286810   \n",
       "\n",
       "     type  \n",
       "0  vacant  \n",
       "1  vacant  \n",
       "2  vacant  \n",
       "3  vacant  \n",
       "4  vacant  "
      ]
     },
     "execution_count": 84,
     "metadata": {},
     "output_type": "execute_result"
    }
   ],
   "source": [
    "vacancies.head()"
   ]
  },
  {
   "cell_type": "code",
   "execution_count": 85,
   "metadata": {
    "collapsed": false
   },
   "outputs": [
    {
     "data": {
      "text/html": [
       "<div>\n",
       "<table border=\"1\" class=\"dataframe\">\n",
       "  <thead>\n",
       "    <tr style=\"text-align: right;\">\n",
       "      <th></th>\n",
       "      <th>cameraLocation</th>\n",
       "      <th>cameraNumber</th>\n",
       "      <th>cameraProject</th>\n",
       "      <th>Location 1</th>\n",
       "    </tr>\n",
       "  </thead>\n",
       "  <tbody>\n",
       "    <tr>\n",
       "      <th>0</th>\n",
       "      <td>Eutaw and Lexington Market</td>\n",
       "      <td>1</td>\n",
       "      <td>Downtown</td>\n",
       "      <td>(39.290996, -76.621073999999993)</td>\n",
       "    </tr>\n",
       "    <tr>\n",
       "      <th>1</th>\n",
       "      <td>Eutaw and Fayette</td>\n",
       "      <td>2</td>\n",
       "      <td>Downtown</td>\n",
       "      <td>(39.29048796517317, -76.623665143680341)</td>\n",
       "    </tr>\n",
       "    <tr>\n",
       "      <th>2</th>\n",
       "      <td>Eutaw and Baltimore</td>\n",
       "      <td>3</td>\n",
       "      <td>Downtown</td>\n",
       "      <td>(39.289324000000001, -76.620985000000005)</td>\n",
       "    </tr>\n",
       "    <tr>\n",
       "      <th>3</th>\n",
       "      <td>Eutaw and Redwood</td>\n",
       "      <td>4</td>\n",
       "      <td>Downtown</td>\n",
       "      <td>(39.288677999999997, -76.620947999999999)</td>\n",
       "    </tr>\n",
       "    <tr>\n",
       "      <th>4</th>\n",
       "      <td>Eutaw and Lombard</td>\n",
       "      <td>5</td>\n",
       "      <td>Downtown</td>\n",
       "      <td>(39.287528000000002, -76.620853999999994)</td>\n",
       "    </tr>\n",
       "  </tbody>\n",
       "</table>\n",
       "</div>"
      ],
      "text/plain": [
       "               cameraLocation  cameraNumber cameraProject  \\\n",
       "0  Eutaw and Lexington Market             1      Downtown   \n",
       "1           Eutaw and Fayette             2      Downtown   \n",
       "2         Eutaw and Baltimore             3      Downtown   \n",
       "3           Eutaw and Redwood             4      Downtown   \n",
       "4           Eutaw and Lombard             5      Downtown   \n",
       "\n",
       "                                  Location 1  \n",
       "0           (39.290996, -76.621073999999993)  \n",
       "1   (39.29048796517317, -76.623665143680341)  \n",
       "2  (39.289324000000001, -76.620985000000005)  \n",
       "3  (39.288677999999997, -76.620947999999999)  \n",
       "4  (39.287528000000002, -76.620853999999994)  "
      ]
     },
     "execution_count": 85,
     "metadata": {},
     "output_type": "execute_result"
    }
   ],
   "source": [
    "cctv.head()"
   ]
  },
  {
   "cell_type": "code",
   "execution_count": 87,
   "metadata": {
    "collapsed": false
   },
   "outputs": [],
   "source": [
    "addresses = cctv['Location 1']\n",
    "lats = []\n",
    "longs = []"
   ]
  },
  {
   "cell_type": "code",
   "execution_count": 88,
   "metadata": {
    "collapsed": true
   },
   "outputs": [],
   "source": [
    "for addr in addresses:\n",
    "    (lat, lon) = make_tuple(addr)\n",
    "    lats.append(lat)\n",
    "    longs.append(lon)\n",
    "\n",
    "cctv['longitude'] = longs\n",
    "cctv['latitude'] = lats"
   ]
  },
  {
   "cell_type": "code",
   "execution_count": 89,
   "metadata": {
    "collapsed": true
   },
   "outputs": [],
   "source": [
    "#cctv.drop(cctv.columns[[0,1,2,4,5,6,7]], axis=1)#, inplace=True)\n",
    "cctv['type'] = 'cctv'"
   ]
  },
  {
   "cell_type": "code",
   "execution_count": 90,
   "metadata": {
    "collapsed": false
   },
   "outputs": [
    {
     "data": {
      "text/html": [
       "<div>\n",
       "<table border=\"1\" class=\"dataframe\">\n",
       "  <thead>\n",
       "    <tr style=\"text-align: right;\">\n",
       "      <th></th>\n",
       "      <th>cameraLocation</th>\n",
       "      <th>cameraNumber</th>\n",
       "      <th>cameraProject</th>\n",
       "      <th>Location 1</th>\n",
       "      <th>longitude</th>\n",
       "      <th>latitude</th>\n",
       "      <th>type</th>\n",
       "    </tr>\n",
       "  </thead>\n",
       "  <tbody>\n",
       "    <tr>\n",
       "      <th>0</th>\n",
       "      <td>Eutaw and Lexington Market</td>\n",
       "      <td>1</td>\n",
       "      <td>Downtown</td>\n",
       "      <td>(39.290996, -76.621073999999993)</td>\n",
       "      <td>-76.621074</td>\n",
       "      <td>39.290996</td>\n",
       "      <td>cctv</td>\n",
       "    </tr>\n",
       "    <tr>\n",
       "      <th>1</th>\n",
       "      <td>Eutaw and Fayette</td>\n",
       "      <td>2</td>\n",
       "      <td>Downtown</td>\n",
       "      <td>(39.29048796517317, -76.623665143680341)</td>\n",
       "      <td>-76.623665</td>\n",
       "      <td>39.290488</td>\n",
       "      <td>cctv</td>\n",
       "    </tr>\n",
       "    <tr>\n",
       "      <th>2</th>\n",
       "      <td>Eutaw and Baltimore</td>\n",
       "      <td>3</td>\n",
       "      <td>Downtown</td>\n",
       "      <td>(39.289324000000001, -76.620985000000005)</td>\n",
       "      <td>-76.620985</td>\n",
       "      <td>39.289324</td>\n",
       "      <td>cctv</td>\n",
       "    </tr>\n",
       "    <tr>\n",
       "      <th>3</th>\n",
       "      <td>Eutaw and Redwood</td>\n",
       "      <td>4</td>\n",
       "      <td>Downtown</td>\n",
       "      <td>(39.288677999999997, -76.620947999999999)</td>\n",
       "      <td>-76.620948</td>\n",
       "      <td>39.288678</td>\n",
       "      <td>cctv</td>\n",
       "    </tr>\n",
       "    <tr>\n",
       "      <th>4</th>\n",
       "      <td>Eutaw and Lombard</td>\n",
       "      <td>5</td>\n",
       "      <td>Downtown</td>\n",
       "      <td>(39.287528000000002, -76.620853999999994)</td>\n",
       "      <td>-76.620854</td>\n",
       "      <td>39.287528</td>\n",
       "      <td>cctv</td>\n",
       "    </tr>\n",
       "  </tbody>\n",
       "</table>\n",
       "</div>"
      ],
      "text/plain": [
       "               cameraLocation  cameraNumber cameraProject  \\\n",
       "0  Eutaw and Lexington Market             1      Downtown   \n",
       "1           Eutaw and Fayette             2      Downtown   \n",
       "2         Eutaw and Baltimore             3      Downtown   \n",
       "3           Eutaw and Redwood             4      Downtown   \n",
       "4           Eutaw and Lombard             5      Downtown   \n",
       "\n",
       "                                  Location 1  longitude   latitude  type  \n",
       "0           (39.290996, -76.621073999999993) -76.621074  39.290996  cctv  \n",
       "1   (39.29048796517317, -76.623665143680341) -76.623665  39.290488  cctv  \n",
       "2  (39.289324000000001, -76.620985000000005) -76.620985  39.289324  cctv  \n",
       "3  (39.288677999999997, -76.620947999999999) -76.620948  39.288678  cctv  \n",
       "4  (39.287528000000002, -76.620853999999994) -76.620854  39.287528  cctv  "
      ]
     },
     "execution_count": 90,
     "metadata": {},
     "output_type": "execute_result"
    }
   ],
   "source": [
    "cctv.head()"
   ]
  },
  {
   "cell_type": "code",
   "execution_count": 95,
   "metadata": {
    "collapsed": false
   },
   "outputs": [],
   "source": [
    "#arrests.head()"
   ]
  },
  {
   "cell_type": "code",
   "execution_count": 92,
   "metadata": {
    "collapsed": true
   },
   "outputs": [],
   "source": [
    "addresses = arrests['IncidentLocation']\n",
    "lats = []\n",
    "longs = []"
   ]
  },
  {
   "cell_type": "code",
   "execution_count": 94,
   "metadata": {
    "collapsed": false
   },
   "outputs": [
    {
     "ename": "GeocoderServiceError",
     "evalue": "HTTP Error 429: Too Many Requests",
     "output_type": "error",
     "traceback": [
      "\u001b[0;31m---------------------------------------------------------------------------\u001b[0m",
      "\u001b[0;31mGeocoderServiceError\u001b[0m                      Traceback (most recent call last)",
      "\u001b[0;32m<ipython-input-94-2a2cda2b5edb>\u001b[0m in \u001b[0;36m<module>\u001b[0;34m()\u001b[0m\n\u001b[1;32m      1\u001b[0m \u001b[0;32mfor\u001b[0m \u001b[0maddr\u001b[0m \u001b[0;32min\u001b[0m \u001b[0maddresses\u001b[0m\u001b[0;34m[\u001b[0m\u001b[0;36m0\u001b[0m\u001b[0;34m]\u001b[0m\u001b[0;34m:\u001b[0m\u001b[0;34m\u001b[0m\u001b[0m\n\u001b[0;32m----> 2\u001b[0;31m     \u001b[0mloc\u001b[0m \u001b[0;34m=\u001b[0m \u001b[0mgeolocator\u001b[0m\u001b[0;34m.\u001b[0m\u001b[0mgeocode\u001b[0m\u001b[0;34m(\u001b[0m \u001b[0maddr\u001b[0m \u001b[0;34m)\u001b[0m\u001b[0;34m\u001b[0m\u001b[0m\n\u001b[0m\u001b[1;32m      3\u001b[0m \u001b[0;34m\u001b[0m\u001b[0m\n\u001b[1;32m      4\u001b[0m \u001b[0;32mprint\u001b[0m \u001b[0mloc\u001b[0m\u001b[0;34m.\u001b[0m\u001b[0mlatitude\u001b[0m\u001b[0;34m,\u001b[0m \u001b[0mloc\u001b[0m\u001b[0;34m.\u001b[0m\u001b[0mlongitude\u001b[0m\u001b[0;34m\u001b[0m\u001b[0m\n",
      "\u001b[0;32m/Users/Katie/anaconda/lib/python2.7/site-packages/geopy/geocoders/osm.pyc\u001b[0m in \u001b[0;36mgeocode\u001b[0;34m(self, query, exactly_one, timeout, addressdetails, language, geometry)\u001b[0m\n\u001b[1;32m    191\u001b[0m         \u001b[0mlogger\u001b[0m\u001b[0;34m.\u001b[0m\u001b[0mdebug\u001b[0m\u001b[0;34m(\u001b[0m\u001b[0;34m\"%s.geocode: %s\"\u001b[0m\u001b[0;34m,\u001b[0m \u001b[0mself\u001b[0m\u001b[0;34m.\u001b[0m\u001b[0m__class__\u001b[0m\u001b[0;34m.\u001b[0m\u001b[0m__name__\u001b[0m\u001b[0;34m,\u001b[0m \u001b[0murl\u001b[0m\u001b[0;34m)\u001b[0m\u001b[0;34m\u001b[0m\u001b[0m\n\u001b[1;32m    192\u001b[0m         return self._parse_json(\n\u001b[0;32m--> 193\u001b[0;31m             \u001b[0mself\u001b[0m\u001b[0;34m.\u001b[0m\u001b[0m_call_geocoder\u001b[0m\u001b[0;34m(\u001b[0m\u001b[0murl\u001b[0m\u001b[0;34m,\u001b[0m \u001b[0mtimeout\u001b[0m\u001b[0;34m=\u001b[0m\u001b[0mtimeout\u001b[0m\u001b[0;34m)\u001b[0m\u001b[0;34m,\u001b[0m \u001b[0mexactly_one\u001b[0m\u001b[0;34m\u001b[0m\u001b[0m\n\u001b[0m\u001b[1;32m    194\u001b[0m         )\n\u001b[1;32m    195\u001b[0m \u001b[0;34m\u001b[0m\u001b[0m\n",
      "\u001b[0;32m/Users/Katie/anaconda/lib/python2.7/site-packages/geopy/geocoders/base.pyc\u001b[0m in \u001b[0;36m_call_geocoder\u001b[0;34m(self, url, timeout, raw, requester, deserializer, **kwargs)\u001b[0m\n\u001b[1;32m    158\u001b[0m                     \u001b[0;32mraise\u001b[0m \u001b[0mERROR_CODE_MAP\u001b[0m\u001b[0;34m[\u001b[0m\u001b[0mcode\u001b[0m\u001b[0;34m]\u001b[0m\u001b[0;34m(\u001b[0m\u001b[0mmessage\u001b[0m\u001b[0;34m)\u001b[0m\u001b[0;34m\u001b[0m\u001b[0m\n\u001b[1;32m    159\u001b[0m                 \u001b[0;32mexcept\u001b[0m \u001b[0mKeyError\u001b[0m\u001b[0;34m:\u001b[0m\u001b[0;34m\u001b[0m\u001b[0m\n\u001b[0;32m--> 160\u001b[0;31m                     \u001b[0;32mraise\u001b[0m \u001b[0mGeocoderServiceError\u001b[0m\u001b[0;34m(\u001b[0m\u001b[0mmessage\u001b[0m\u001b[0;34m)\u001b[0m\u001b[0;34m\u001b[0m\u001b[0m\n\u001b[0m\u001b[1;32m    161\u001b[0m             \u001b[0;32melif\u001b[0m \u001b[0misinstance\u001b[0m\u001b[0;34m(\u001b[0m\u001b[0merror\u001b[0m\u001b[0;34m,\u001b[0m \u001b[0mURLError\u001b[0m\u001b[0;34m)\u001b[0m\u001b[0;34m:\u001b[0m\u001b[0;34m\u001b[0m\u001b[0m\n\u001b[1;32m    162\u001b[0m                 \u001b[0;32mif\u001b[0m \u001b[0;34m\"timed out\"\u001b[0m \u001b[0;32min\u001b[0m \u001b[0mmessage\u001b[0m\u001b[0;34m:\u001b[0m\u001b[0;34m\u001b[0m\u001b[0m\n",
      "\u001b[0;31mGeocoderServiceError\u001b[0m: HTTP Error 429: Too Many Requests"
     ]
    }
   ],
   "source": [
    "for addr in addresses[0]:\n",
    "    loc = geolocator.geocode( addr )\n",
    "\n",
    "print loc.latitude, loc.longitude"
   ]
  },
  {
   "cell_type": "code",
   "execution_count": 96,
   "metadata": {
    "collapsed": true
   },
   "outputs": [],
   "source": [
    "# Server would not allow further cleaning to be performed on data -- could not clean arrest data\n",
    "# Saved current results, to reduce future server requests\n",
    "\n",
    "libraries.to_csv('data/clean/Libraries.csv')\n",
    "schools.to_csv('data/clean/Schools.csv')\n",
    "shelters.to_csv('data/clean/Shelters.csv')\n",
    "parks.to_csv('data/clean/Parks.csv')\n",
    "religious.to_csv('data/clean/Religious.csv')\n",
    "vacancies.to_csv('data/clean/Vacancies.csv')\n",
    "cctv.to_csv('data/clean/CCTV.csv')"
   ]
  },
  {
   "cell_type": "code",
   "execution_count": null,
   "metadata": {
    "collapsed": true
   },
   "outputs": [],
   "source": []
  }
 ],
 "metadata": {
  "anaconda-cloud": {},
  "kernelspec": {
   "display_name": "Python 2",
   "language": "python",
   "name": "python2"
  },
  "language_info": {
   "codemirror_mode": {
    "name": "ipython",
    "version": 2
   },
   "file_extension": ".py",
   "mimetype": "text/x-python",
   "name": "python",
   "nbconvert_exporter": "python",
   "pygments_lexer": "ipython2",
   "version": "2.7.11"
  }
 },
 "nbformat": 4,
 "nbformat_minor": 0
}
