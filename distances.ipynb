{
 "cells": [
  {
   "cell_type": "code",
   "execution_count": 196,
   "metadata": {
    "collapsed": true
   },
   "outputs": [],
   "source": [
    "import pandas as pd\n",
    "import numpy as np\n",
    "from scipy.spatial import distance\n",
    "import math"
   ]
  },
  {
   "cell_type": "code",
   "execution_count": 197,
   "metadata": {
    "collapsed": false
   },
   "outputs": [],
   "source": [
    "cctv = pd.read_csv('data/CCTV_Locations.csv')\n",
    "arrests = pd.read_csv('data/BPD_Arrests.csv')\n",
    "arrests['Location 1'].dropna()\n",
    "distances = []"
   ]
  },
  {
   "cell_type": "code",
   "execution_count": null,
   "metadata": {
    "collapsed": false
   },
   "outputs": [],
   "source": [
    "def manhattan_closest_cctv(latlong):\n",
    "    if type(latlong) == type(0.0):\n",
    "        return latlong\n",
    "    ll = latlong[1:-1].split(', ')\n",
    "    latlong = (float(ll[0]), float(ll[1]))\n",
    "    dist = []\n",
    "    for index, row in cctv.iterrows():\n",
    "        if type(row['Location 1']) == type(0.0):\n",
    "            continue\n",
    "        nn =  row['Location 1'][1: -1].split(', ')\n",
    "        nn = ( float(nn[0]) , float(nn[1]) )\n",
    "        dist.append( distance.cityblock(latlong, nn) )\n",
    "    return min(dist)"
   ]
  },
  {
   "cell_type": "code",
   "execution_count": null,
   "metadata": {
    "collapsed": false
   },
   "outputs": [],
   "source": [
    "for index, row in arrests.iterrows():\n",
    "    distances.append( manhattan_closest_cctv( row['Location 1'] ) )"
   ]
  },
  {
   "cell_type": "code",
   "execution_count": null,
   "metadata": {
    "collapsed": false
   },
   "outputs": [],
   "source": [
    "print distances"
   ]
  },
  {
   "cell_type": "code",
   "execution_count": null,
   "metadata": {
    "collapsed": true
   },
   "outputs": [],
   "source": []
  },
  {
   "cell_type": "code",
   "execution_count": null,
   "metadata": {
    "collapsed": true
   },
   "outputs": [],
   "source": []
  }
 ],
 "metadata": {
  "kernelspec": {
   "display_name": "Python 2",
   "language": "python",
   "name": "python2"
  },
  "language_info": {
   "codemirror_mode": {
    "name": "ipython",
    "version": 2
   },
   "file_extension": ".py",
   "mimetype": "text/x-python",
   "name": "python",
   "nbconvert_exporter": "python",
   "pygments_lexer": "ipython2",
   "version": "2.7.11"
  }
 },
 "nbformat": 4,
 "nbformat_minor": 0
}
